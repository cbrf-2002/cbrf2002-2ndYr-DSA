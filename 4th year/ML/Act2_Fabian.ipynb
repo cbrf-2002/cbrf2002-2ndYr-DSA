{
  "nbformat": 4,
  "nbformat_minor": 0,
  "metadata": {
    "colab": {
      "provenance": [],
      "authorship_tag": "ABX9TyM9EW/zl3yIFrNJWR02giBq",
      "include_colab_link": true
    },
    "kernelspec": {
      "name": "python3",
      "display_name": "Python 3"
    },
    "language_info": {
      "name": "python"
    }
  },
  "cells": [
    {
      "cell_type": "markdown",
      "metadata": {
        "id": "view-in-github",
        "colab_type": "text"
      },
      "source": [
        "<a href=\"https://colab.research.google.com/github/cbrf2002/cbrf2002-CollegeArchives/blob/main/4th%20year/ML/Act2_Fabian.ipynb\" target=\"_parent\"><img src=\"https://colab.research.google.com/assets/colab-badge.svg\" alt=\"Open In Colab\"/></a>"
      ]
    },
    {
      "cell_type": "code",
      "execution_count": 23,
      "metadata": {
        "id": "noFtiEZgdYKQ"
      },
      "outputs": [],
      "source": [
        "import pandas as pd\n",
        "from google.colab import files, drive\n",
        "import re"
      ]
    },
    {
      "cell_type": "code",
      "source": [
        "# Mount Google Drive\n",
        "drive.mount('/content/drive')\n",
        "\n",
        "# CONFIGURABLE VARIABLES\n",
        "DATASET_PATH = '/content/drive/MyDrive/Colab Notebooks/Pokemon.csv'\n",
        "ENCODING_TYPE = 'utf-8'  # Encoding for reading the file\n",
        "df = pd.read_csv(DATASET_PATH, encoding=ENCODING_TYPE)"
      ],
      "metadata": {
        "colab": {
          "base_uri": "https://localhost:8080/"
        },
        "id": "vrizpC9qdiV7",
        "outputId": "d066218b-ea97-479c-a83c-334312d6b20a"
      },
      "execution_count": 24,
      "outputs": [
        {
          "output_type": "stream",
          "name": "stdout",
          "text": [
            "Drive already mounted at /content/drive; to attempt to forcibly remount, call drive.mount(\"/content/drive\", force_remount=True).\n"
          ]
        }
      ]
    },
    {
      "cell_type": "code",
      "source": [
        "#Search function with case insensitivity regex\n",
        "def search_pokemon(df, search_term, search_column=['#', 'Name', 'Type 1', 'Type 2', 'Total', 'HP', 'Attack', 'Defense', 'Sp. Atk', 'Sp. Def', 'Speed', 'Generation', 'Legendary']):\n",
        "  df = df.fillna('')\n",
        "  filtered_df = df.filter(regex='|'.join(search_column))\n",
        "  res = re.compile(search_term, re.IGNORECASE)\n",
        "  pattern = f\".*{res.pattern}.*\"\n",
        "  filtered_df = filtered_df[filtered_df.apply(lambda x: x.astype(str).str.contains(pattern, regex=True, case=False)).any(axis=1)]\n",
        "\n",
        "  return filtered_df"
      ],
      "metadata": {
        "id": "Dtmq9zP_s-Xi"
      },
      "execution_count": 73,
      "outputs": []
    },
    {
      "cell_type": "code",
      "source": [
        "def modify_pokemon(df, pokemon_name, attribute, new_value):\n",
        "  pokemon_index = df[df['Name'] == pokemon_name].index\n",
        "\n",
        "  if len(pokemon_index) == 0:\n",
        "    print(f\"Error: Pokemon '{pokemon_name}' not found in the DataFrame.\")\n",
        "    return df  # Return the original DataFrame without changes\n",
        "\n",
        "  # Modify the attribute\n",
        "  df.loc[pokemon_index, attribute] = new_value  # Assign back to the DataFrame\n",
        "\n",
        "  print(f\"Successfully modified '{attribute}' of '{pokemon_name}' to '{new_value}'.\")\n",
        "  return df"
      ],
      "metadata": {
        "id": "MeEhDMrx58YV"
      },
      "execution_count": 77,
      "outputs": []
    },
    {
      "cell_type": "code",
      "source": [
        "#Frontend function for search and modify functions\n",
        "print(\"Welcome to the Pokemon Search and Modify Tool!\")\n",
        "print(\"---------------------------------------------\")\n",
        "print(\"1. Search for a Pokemon\")\n",
        "print(\"2. Modify an Attribute of a Pokemon\")\n",
        "print(\"---------------------------------------------\")\n",
        "choice = input(\"Enter your choice (1 or 2): \")\n",
        "\n",
        "if choice == '1':\n",
        "    search_term = input(\"Enter the search term: \")\n",
        "    search_results = search_pokemon(df, search_term)  # Store search results\n",
        "    print(search_results)\n",
        "    # Export search results to drive\n",
        "    search_results.to_csv('/content/drive/MyDrive/Colab Notebooks/Pokemon_search_results.csv', index=False)\n",
        "    print(\"Search results exported to Pokemon_search_results.csv\")\n",
        "elif choice == '2':\n",
        "    pokemon_name = input(\"Enter the name of the Pokemon: \")\n",
        "    attribute = input(\"Enter the attribute to modify: \")\n",
        "    new_value = input(\"Enter the new value for the attribute: \")\n",
        "    modify_pokemon(df, pokemon_name, attribute, new_value)\n",
        "    print(df)\n",
        "    # Export modified DataFrame to drive\n",
        "    df.to_csv('/content/drive/MyDrive/Colab Notebooks/Pokemon_modified.csv', index=False)\n",
        "    print(\"Modified DataFrame exported to Pokemon_modified.csv\")\n",
        "else:\n",
        "    print(\"Invalid choice. Please enter 1 or 2.\")"
      ],
      "metadata": {
        "id": "POzAprYp63GL",
        "outputId": "2f983d6b-287c-4982-837e-132fe716c16f",
        "colab": {
          "base_uri": "https://localhost:8080/"
        }
      },
      "execution_count": 78,
      "outputs": [
        {
          "output_type": "stream",
          "name": "stdout",
          "text": [
            "Welcome to the Pokemon Search and Modify Tool!\n",
            "---------------------------------------------\n",
            "1. Search for a Pokemon\n",
            "2. Modify an Attribute of a Pokemon\n",
            "---------------------------------------------\n",
            "Enter your choice (1 or 2): 2\n",
            "Enter the name of the Pokemon: Goomy\n",
            "Enter the attribute to modify: Type 2\n",
            "Enter the new value for the attribute: Grass\n",
            "Successfully modified 'Type 2' of 'Goomy' to 'Grass'.\n",
            "       #                   Name   Type 1  Type 2  Total  HP Attack  Defense  \\\n",
            "0      1              Bulbasaur    Grass  Poison    318  45     55       49   \n",
            "1      2                Ivysaur    Grass  Poison    405  60     62       63   \n",
            "2      3               Venusaur    Grass  Poison    525  80     82       83   \n",
            "3      3  VenusaurMega Venusaur    Grass  Poison    625  80    100      123   \n",
            "4      4             Charmander     Fire     NaN    309  39     52       43   \n",
            "..   ...                    ...      ...     ...    ...  ..    ...      ...   \n",
            "795  719                Diancie     Rock   Fairy    600  50    100      150   \n",
            "796  719    DiancieMega Diancie     Rock   Fairy    700  50    160      110   \n",
            "797  720    HoopaHoopa Confined  Psychic   Ghost    600  80    110       60   \n",
            "798  720     HoopaHoopa Unbound  Psychic    Dark    680  80    160       60   \n",
            "799  721              Volcanion     Fire   Water    600  80    110      120   \n",
            "\n",
            "     Sp. Atk  Sp. Def  Speed  Generation  Legendary  \n",
            "0         65       65     45           1      False  \n",
            "1         80       80     60           1      False  \n",
            "2        100      100     80           1      False  \n",
            "3        122      120     80           1      False  \n",
            "4         60       50     65           1      False  \n",
            "..       ...      ...    ...         ...        ...  \n",
            "795      100      150     50           6       True  \n",
            "796      160      110    110           6       True  \n",
            "797      150      130     70           6       True  \n",
            "798      170      130     80           6       True  \n",
            "799      130       90     70           6       True  \n",
            "\n",
            "[800 rows x 13 columns]\n",
            "Modified DataFrame exported to Pokemon_modified.csv\n"
          ]
        }
      ]
    }
  ]
}