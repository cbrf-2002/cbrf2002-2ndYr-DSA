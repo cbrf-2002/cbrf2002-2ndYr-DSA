{
 "cells": [
  {
   "cell_type": "code",
   "execution_count": 1,
   "id": "ece995dd",
   "metadata": {},
   "outputs": [],
   "source": [
    "#Supplemental Activity 1\n",
    "from tkinter import*\n",
    "\n",
    "def readClick():\n",
    "    file = open(\"testfileCharles.txt\",\"w\")\n",
    "    file.write(\"TIP Manila\\n\")\n",
    "    file.write(\"ITE 003\\n\")\n",
    "    file.write(\"Arlegui Building\\n\")\n",
    "    file.write(\"Pogi at maganda lahat sa TIP\\n\")\n",
    "    file = open(\"testfileCharles.txt\",\"r\")\n",
    "    text.insert(END, file.read())\n",
    "\n",
    "root = Tk()\n",
    "root.geometry(\"300x200\")\n",
    "text = Text(root, width=35, height=10)\n",
    "text.pack()\n",
    "button = Button(root, text = \"Read Data\", command = readClick).pack()\n",
    "\n",
    "root.mainloop()"
   ]
  },
  {
   "cell_type": "code",
   "execution_count": 3,
   "id": "0a699530",
   "metadata": {},
   "outputs": [],
   "source": [
    "#Supplemental Activity 2\n",
    "from tkinter import*\n",
    "\n",
    "def writeClick():\n",
    "    textcontent = text.get('1.0','end')\n",
    "    file = open(\"testfileNewCharles.txt\",\"w\")\n",
    "    file.write(textcontent)\n",
    "    file.close()\n",
    "    \n",
    "root = Tk()\n",
    "root.geometry(\"300x200\")\n",
    "text = Text(root, width=35, height=10)\n",
    "text.pack()\n",
    "button = Button(root, text = \"Submit\", fg=\"red\", command = writeClick).pack()\n",
    "\n",
    "root.mainloop()"
   ]
  },
  {
   "cell_type": "code",
   "execution_count": 4,
   "id": "5a38e17f",
   "metadata": {},
   "outputs": [],
   "source": [
    "#Supplemental Activity 3\n",
    "from tkinter import*\n",
    "\n",
    "def appendClick():\n",
    "    textcontent = text.get('1.0','end')\n",
    "    file = open(\"testfileNewCharles.txt\",\"a\")\n",
    "    file.write(textcontent)\n",
    "    file.close()\n",
    "    \n",
    "root = Tk()\n",
    "root.geometry(\"200x120\")\n",
    "label1 = Label(root, text = \"Text:\").pack()\n",
    "text = Text(root, width=20, height=4)\n",
    "text.pack()\n",
    "button = Button(root, text = \"Add text\", command = appendClick).pack()\n",
    "\n",
    "root.mainloop()"
   ]
  },
  {
   "cell_type": "code",
   "execution_count": null,
   "id": "07f5704a",
   "metadata": {},
   "outputs": [],
   "source": []
  }
 ],
 "metadata": {
  "kernelspec": {
   "display_name": "Python 3 (ipykernel)",
   "language": "python",
   "name": "python3"
  },
  "language_info": {
   "codemirror_mode": {
    "name": "ipython",
    "version": 3
   },
   "file_extension": ".py",
   "mimetype": "text/x-python",
   "name": "python",
   "nbconvert_exporter": "python",
   "pygments_lexer": "ipython3",
   "version": "3.10.1"
  }
 },
 "nbformat": 4,
 "nbformat_minor": 5
}
