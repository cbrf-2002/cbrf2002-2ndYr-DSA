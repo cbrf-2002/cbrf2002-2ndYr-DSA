{
 "cells": [
  {
   "cell_type": "code",
   "execution_count": 3,
   "id": "4dc00be4",
   "metadata": {},
   "outputs": [
    {
     "name": "stdout",
     "output_type": "stream",
     "text": [
      "My name is Charles Bryan R. Fabian from Computer Engineering\n",
      "I'm 19 and my address is Tagaytay, Cavite\n"
     ]
    }
   ],
   "source": [
    "Name = \"Charles Bryan R. Fabian\"\n",
    "Dept = \"Computer Engineering\"\n",
    "Age = 19\n",
    "Address = \"Tagaytay, Cavite\"\n",
    "\n",
    "print (\"My name is \" + Name + \" from \" + Dept + \"\\nI'm \" + str(Age) + \" and my address is \" + Address)"
   ]
  }
 ],
 "metadata": {
  "kernelspec": {
   "display_name": "Python 3 (ipykernel)",
   "language": "python",
   "name": "python3"
  },
  "language_info": {
   "codemirror_mode": {
    "name": "ipython",
    "version": 3
   },
   "file_extension": ".py",
   "mimetype": "text/x-python",
   "name": "python",
   "nbconvert_exporter": "python",
   "pygments_lexer": "ipython3",
   "version": "3.10.1"
  }
 },
 "nbformat": 4,
 "nbformat_minor": 5
}
