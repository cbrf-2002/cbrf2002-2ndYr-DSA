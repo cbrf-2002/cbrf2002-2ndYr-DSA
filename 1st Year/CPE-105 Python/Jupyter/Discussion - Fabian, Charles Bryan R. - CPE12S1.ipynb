{
 "cells": [
  {
   "cell_type": "code",
   "execution_count": 18,
   "id": "e80e4b1e",
   "metadata": {},
   "outputs": [
    {
     "name": "stdout",
     "output_type": "stream",
     "text": [
      "Input your name: Charles Bryan Fabian\n",
      "Input your department: Computer Engineering\n",
      "Input your age: 19\n",
      "Input your address: Kaybagal South, Tagaytay City, Cavite\n",
      "\n",
      "My name is Charles Bryan Fabian from Computer Engineering department.\n",
      "I'm 19 years old and my address is Kaybagal South, Tagaytay City, Cavite.\n"
     ]
    }
   ],
   "source": [
    "name = input(\"Input your name: \")\n",
    "dept = input(\"Input your department: \")\n",
    "age = str(input(\"Input your age: \"))\n",
    "address = input(\"Input your address: \")\n",
    "\n",
    "print(\"\\nMy name is \" + name + \" from \" + dept + \" department.\\nI'm \" + age + \" years old and my address is \" + address + \".\")"
   ]
  }
 ],
 "metadata": {
  "kernelspec": {
   "display_name": "Python 3 (ipykernel)",
   "language": "python",
   "name": "python3"
  },
  "language_info": {
   "codemirror_mode": {
    "name": "ipython",
    "version": 3
   },
   "file_extension": ".py",
   "mimetype": "text/x-python",
   "name": "python",
   "nbconvert_exporter": "python",
   "pygments_lexer": "ipython3",
   "version": "3.10.1"
  }
 },
 "nbformat": 4,
 "nbformat_minor": 5
}
