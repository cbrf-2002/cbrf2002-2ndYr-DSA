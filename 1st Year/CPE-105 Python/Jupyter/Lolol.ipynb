{
 "cells": [
  {
   "cell_type": "code",
   "execution_count": 4,
   "id": "e31554a0",
   "metadata": {},
   "outputs": [
    {
     "name": "stdout",
     "output_type": "stream",
     "text": [
      "My name is Tsuki and my noise is arf arf arf\n",
      "My name is Fishy and my noise is fish don't make noise\n"
     ]
    }
   ],
   "source": [
    "class Animal():\n",
    "    Animal = \"\"\n",
    "    def __init__(self):\n",
    "        self.Animal = \"Unknown\"\n",
    "    def noise(self):\n",
    "        print(\"Animal make noise\")\n",
    "    def getName(self):\n",
    "        return(self.animal)\n",
    "    def setName(self, name):\n",
    "        self.animal = name\n",
    "class Dog(Animal):\n",
    "    def noise(self):\n",
    "        print(\"arf arf arf\")\n",
    "class Fish(Animal):\n",
    "    def noise(self):\n",
    "        print(\"fish don't make noise\")\n",
    "\n",
    "        \n",
    "pet1 = Dog()\n",
    "pet2 = Fish()\n",
    "pet1.animal = \"Tsuki\"\n",
    "pet2.animal = \"Fishy\"\n",
    "\n",
    "print(\"My name is\",pet1.getName(),\"and my noise is\",end=\" \")\n",
    "pet1.noise()\n",
    "print(\"My name is\",pet2.getName(),\"and my noise is\",end=\" \")\n",
    "pet2.noise()"
   ]
  },
  {
   "cell_type": "code",
   "execution_count": 5,
   "id": "7abb9acc",
   "metadata": {},
   "outputs": [
    {
     "name": "stdout",
     "output_type": "stream",
     "text": [
      "[400, 1000]\n",
      "[800, 400, 1000]\n",
      "[800, 400, 1000, 5000]\n",
      "[800, 400, 6000, 1000, 5000]\n"
     ]
    }
   ],
   "source": [
    "value = [400, 500]\n",
    "value.remove(500)\n",
    "value.append(1000)\n",
    "print(value)\n",
    "value.insert(0, 800)\n",
    "print(value)\n",
    "value.append(5000)\n",
    "print(value)\n",
    "value.insert(2, 6000)\n",
    "print(value)"
   ]
  },
  {
   "cell_type": "code",
   "execution_count": null,
   "id": "d209d461",
   "metadata": {},
   "outputs": [],
   "source": []
  }
 ],
 "metadata": {
  "kernelspec": {
   "display_name": "Python 3 (ipykernel)",
   "language": "python",
   "name": "python3"
  },
  "language_info": {
   "codemirror_mode": {
    "name": "ipython",
    "version": 3
   },
   "file_extension": ".py",
   "mimetype": "text/x-python",
   "name": "python",
   "nbconvert_exporter": "python",
   "pygments_lexer": "ipython3",
   "version": "3.10.1"
  }
 },
 "nbformat": 4,
 "nbformat_minor": 5
}
