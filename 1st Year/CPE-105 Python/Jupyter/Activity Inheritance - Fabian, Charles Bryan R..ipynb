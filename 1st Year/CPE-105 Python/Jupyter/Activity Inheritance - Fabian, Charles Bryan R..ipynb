{
 "cells": [
  {
   "cell_type": "markdown",
   "id": "9a64a67a",
   "metadata": {},
   "source": [
    "# Activity Inheritance - Charles Bryan Fabian"
   ]
  },
  {
   "cell_type": "code",
   "execution_count": 29,
   "id": "4d739e34",
   "metadata": {},
   "outputs": [
    {
     "name": "stdout",
     "output_type": "stream",
     "text": [
      "I'm your cuddly little pet!\n",
      "Hi, my name is Cha Cha\n",
      "I only speak when I want to.\n",
      "Kwak Kwak\n"
     ]
    }
   ],
   "source": [
    "class Pet():\n",
    "    petName = ''\n",
    "    def __init__(self):\n",
    "        print(\"I'm your cuddly little pet!\")\n",
    "        pass\n",
    "class Bird(Pet):\n",
    "    def __init__(self):\n",
    "        super().__init__()\n",
    "        print(\"Hi, my name is Cha Cha\")\n",
    "        print(\"I only speak when I want to.\")\n",
    "class Duck(Bird):\n",
    "    def __init__(self):\n",
    "        super().__init__()\n",
    "        print(\"Kwak Kwak\")\n",
    "animal = Duck()"
   ]
  },
  {
   "cell_type": "markdown",
   "id": "7a3d2664",
   "metadata": {},
   "source": [
    "# Activity Encapsulation - Charles Bryan Fabian"
   ]
  },
  {
   "cell_type": "code",
   "execution_count": 35,
   "id": "36c8fea6",
   "metadata": {},
   "outputs": [
    {
     "name": "stdout",
     "output_type": "stream",
     "text": [
      "Adam money balance is: 7000\n",
      "Ben money balance is: 10000\n"
     ]
    }
   ],
   "source": [
    "class Atm:\n",
    "    ownerName = \"\"\n",
    "    __money = \"\"\n",
    "    def __init__(self):\n",
    "        self.ownerName = \"Unknown\"\n",
    "        self.__money = \"500\"\n",
    "    def getBalance(self):\n",
    "        return(self.__money)\n",
    "    def setBalance(self, money):\n",
    "        self.__money = money\n",
    "    def getOwner(self):\n",
    "        return(self.ownerName)\n",
    "    def setOwner(self, name):\n",
    "        self.ownerName = name\n",
    "        \n",
    "owner1 = Atm()\n",
    "owner1.setOwner(\"Adam\")\n",
    "owner1.setBalance(\"7000\")\n",
    "print(owner1.getOwner() + \" money balance is: \"+ owner1.getBalance())\n",
    "\n",
    "owner2 = Atm()\n",
    "owner2.setOwner(\"Ben\")\n",
    "owner2.setBalance(\"10000\")\n",
    "print(owner2.getOwner() + \" money balance is: \"+ owner2.getBalance())"
   ]
  },
  {
   "cell_type": "code",
   "execution_count": null,
   "id": "f3ae1108",
   "metadata": {},
   "outputs": [],
   "source": []
  }
 ],
 "metadata": {
  "kernelspec": {
   "display_name": "Python 3 (ipykernel)",
   "language": "python",
   "name": "python3"
  },
  "language_info": {
   "codemirror_mode": {
    "name": "ipython",
    "version": 3
   },
   "file_extension": ".py",
   "mimetype": "text/x-python",
   "name": "python",
   "nbconvert_exporter": "python",
   "pygments_lexer": "ipython3",
   "version": "3.10.1"
  }
 },
 "nbformat": 4,
 "nbformat_minor": 5
}
