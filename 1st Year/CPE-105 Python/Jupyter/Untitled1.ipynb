{
 "cells": [
  {
   "cell_type": "code",
   "execution_count": null,
   "id": "4b9012e6",
   "metadata": {},
   "outputs": [],
   "source": [
    "class Phone:\n",
    "    screenType = \"IPS LCD\"\n",
    "    operatingSystem = \"Android 11\"\n",
    "    centralProcessingSystem = \"Kyro 360 Gold\"\n",
    "    graphicsProcessingUnit = \"Adreno 616\"\n",
    "    shutdown()\n",
    "    bootup()"
   ]
  }
 ],
 "metadata": {
  "kernelspec": {
   "display_name": "Python 3 (ipykernel)",
   "language": "python",
   "name": "python3"
  },
  "language_info": {
   "codemirror_mode": {
    "name": "ipython",
    "version": 3
   },
   "file_extension": ".py",
   "mimetype": "text/x-python",
   "name": "python",
   "nbconvert_exporter": "python",
   "pygments_lexer": "ipython3",
   "version": "3.10.1"
  }
 },
 "nbformat": 4,
 "nbformat_minor": 5
}
