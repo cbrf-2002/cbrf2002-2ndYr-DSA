{
 "cells": [
  {
   "cell_type": "code",
   "execution_count": 54,
   "id": "3ede89c6",
   "metadata": {
    "scrolled": false
   },
   "outputs": [
    {
     "name": "stdout",
     "output_type": "stream",
     "text": [
      "More organized code\n",
      "More readable code\n",
      "Easier code reuse\n",
      "Allowing programmers to share and connect code together\n"
     ]
    }
   ],
   "source": [
    "def list_benefits():\n",
    "    benefits = [\"More organized code\", \"More readable code\", \"Easier code reuse\", \"Allowing programmers to share and connect code together\"]\n",
    "    for b in benefits:\n",
    "        print(b)\n",
    "        \n",
    "list_benefits()"
   ]
  },
  {
   "cell_type": "code",
   "execution_count": 57,
   "id": "41b13b6e",
   "metadata": {},
   "outputs": [
    {
     "name": "stdout",
     "output_type": "stream",
     "text": [
      "Monosodium Glutamate is good for your health!\n"
     ]
    }
   ],
   "source": [
    "def build_sentence(food):\n",
    "    fooder = food + \" is good for your health!\"\n",
    "    return fooder\n",
    "\n",
    "food = \"Monosodium Glutamate\"\n",
    "print(build_sentence(food))"
   ]
  },
  {
   "cell_type": "code",
   "execution_count": 103,
   "id": "33b64f41",
   "metadata": {},
   "outputs": [
    {
     "name": "stdout",
     "output_type": "stream",
     "text": [
      "Enter number: 453\n",
      "Enter number: 675\n",
      "Enter number: 443\n",
      "Enter number: 213\n",
      "Enter number: 32\n"
     ]
    },
    {
     "data": {
      "text/plain": [
       "363.2"
      ]
     },
     "execution_count": 103,
     "metadata": {},
     "output_type": "execute_result"
    }
   ],
   "source": [
    "def mean(rmean):\n",
    "    rmean = sum(meme) / 5\n",
    "    return rmean\n",
    "\n",
    "meme = []\n",
    "for i in range(5):\n",
    "    put = int(input(\"Enter number: \"))\n",
    "    meme.append(put)\n",
    "mean(meme)"
   ]
  },
  {
   "cell_type": "code",
   "execution_count": 104,
   "id": "ada3493d",
   "metadata": {},
   "outputs": [
    {
     "name": "stdout",
     "output_type": "stream",
     "text": [
      "GGWP\n",
      "GGWP\n",
      "GGWP\n"
     ]
    }
   ],
   "source": [
    "#Function 1 - Function with no return type\n",
    "def myfunc1():\n",
    "    for i in range(3):\n",
    "        print(\"GGWP\")\n",
    "\n",
    "myfunc1()"
   ]
  },
  {
   "cell_type": "code",
   "execution_count": 108,
   "id": "1acecc75",
   "metadata": {},
   "outputs": [
    {
     "name": "stdout",
     "output_type": "stream",
     "text": [
      "105.0°C\n"
     ]
    }
   ],
   "source": [
    "#Function 2 - Function with return type\n",
    "def myfunc2():\n",
    "    b = 32/16\n",
    "    c = 3 + b\n",
    "    return c\n",
    "returnfunc = myfunc2() + 100\n",
    "print(str(returnfunc) + \"°C\")"
   ]
  },
  {
   "cell_type": "code",
   "execution_count": 114,
   "id": "6b3738dd",
   "metadata": {},
   "outputs": [
    {
     "name": "stdout",
     "output_type": "stream",
     "text": [
      "0.6666666666666666\n"
     ]
    }
   ],
   "source": [
    "#Function 3 - Function with parameter with no return type\n",
    "def myfunc3(x, y, z):\n",
    "    r = (x + y) / z\n",
    "    print(r)\n",
    "    \n",
    "myfunc3(3,5,12)"
   ]
  },
  {
   "cell_type": "code",
   "execution_count": 117,
   "id": "51cb1aad",
   "metadata": {
    "scrolled": true
   },
   "outputs": [
    {
     "name": "stdout",
     "output_type": "stream",
     "text": [
      "Input: 6\n",
      "Input: 7\n",
      "Input: 8\n",
      "Input: 7\n"
     ]
    },
    {
     "data": {
      "text/plain": [
       "28.0"
      ]
     },
     "execution_count": 117,
     "metadata": {},
     "output_type": "execute_result"
    }
   ],
   "source": [
    "#Function 4 - Function with parameter with return type\n",
    "def myfunc4(cbrf):\n",
    "    return sum(cbrf)\n",
    "cbrf=[]\n",
    "for i in range (4):\n",
    "    insert = float(input(\"Input: \"))\n",
    "    cbrf.append(insert)\n",
    "myfunc4(cbrf)"
   ]
  },
  {
   "cell_type": "markdown",
   "id": "4055b9ab",
   "metadata": {},
   "source": [
    "###### "
   ]
  }
 ],
 "metadata": {
  "kernelspec": {
   "display_name": "Python 3 (ipykernel)",
   "language": "python",
   "name": "python3"
  },
  "language_info": {
   "codemirror_mode": {
    "name": "ipython",
    "version": 3
   },
   "file_extension": ".py",
   "mimetype": "text/x-python",
   "name": "python",
   "nbconvert_exporter": "python",
   "pygments_lexer": "ipython3",
   "version": "3.10.1"
  }
 },
 "nbformat": 4,
 "nbformat_minor": 5
}
