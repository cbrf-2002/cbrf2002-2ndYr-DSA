{
 "cells": [
  {
   "cell_type": "markdown",
   "id": "d09b4c5c",
   "metadata": {},
   "source": [
    "# Grade.py"
   ]
  },
  {
   "cell_type": "code",
   "execution_count": 11,
   "id": "d93ea4aa",
   "metadata": {
    "scrolled": true
   },
   "outputs": [
    {
     "name": "stdout",
     "output_type": "stream",
     "text": [
      "---------------------------------------------------------------\n",
      "Welcome to Charles Bryan R. Fabian's Student Grade Calculator!\n",
      "---------------------------------------------------------------\n",
      "\n",
      "Input student's Quiz 1 grade: 98\n",
      "Input student's Quiz 2 grade: 76\n",
      "Input student's Quiz 3 grade: 88\n",
      "Input student's Project 1 grade: 67.9876\n",
      "Input student's Project 2 grade: 89.888\n",
      "Input student's Project 3 grade: 78\n",
      "Input student's Final exam grade: 56\n",
      "Input student's Assignment grade: 98.45\n",
      "Input student's Class Standing: 87.77\n",
      "\n",
      "---------------------------------------------------------------\n",
      "\n",
      "Quiz average grade: 26.20\n",
      "Project average grade: 15.73\n",
      "Final exam grade: 16.80\n",
      "Assignment grade: 9.85\n",
      "Class standing: 8.78\n",
      "\n",
      "---------------------------------------------------------------\n",
      "\n",
      "Student's Final Grade: 77.35\n",
      "\n",
      "---------------------------------------------------------------\n"
     ]
    }
   ],
   "source": [
    "print(\"---------------------------------------------------------------\")\n",
    "print(\"Welcome to Charles Bryan R. Fabian's Student Grade Calculator!\")\n",
    "print(\"---------------------------------------------------------------\\n\")\n",
    "quiz1 = float(input(\"Input student's Quiz 1 grade: \"))\n",
    "quiz2 = float(input(\"Input student's Quiz 2 grade: \"))\n",
    "quiz3 = float(input(\"Input student's Quiz 3 grade: \"))\n",
    "proj1 = float(input(\"Input student's Project 1 grade: \"))\n",
    "proj2 = float(input(\"Input student's Project 2 grade: \"))\n",
    "proj3 = float(input(\"Input student's Project 3 grade: \"))\n",
    "finexam = float(input(\"Input student's Final exam grade: \"))\n",
    "ass = float(input(\"Input student's Assignment grade: \"))\n",
    "clast = float(input(\"Input student's Class Standing: \"))\n",
    "print(\"\\n---------------------------------------------------------------\\n\")\n",
    "cquiz = ((quiz1 + quiz2 + quiz3)/3) * .3\n",
    "cproj = ((proj1 + proj2 + proj3)/3) * .2\n",
    "cexam = finexam * .3\n",
    "cass = ass * .1\n",
    "cclast = clast * .1\n",
    "fg = (cquiz + cproj + cexam + cass + cclast)\n",
    "print(\"Quiz average grade: {0:.2f}\\nProject average grade: {1:.2f}\\nFinal exam grade: {2:.2f}\\nAssignment grade: {3:.2f}\\nClass standing: {4:.2f}\\n\".format(cquiz,cproj,cexam,cass,cclast))\n",
    "print(\"---------------------------------------------------------------\\n\")\n",
    "print(\"Student's Final Grade: {0:.2f}\".format(fg))\n",
    "print(\"\\n---------------------------------------------------------------\")"
   ]
  },
  {
   "cell_type": "markdown",
   "id": "178b9a60",
   "metadata": {},
   "source": [
    "# CustomerBill.py"
   ]
  },
  {
   "cell_type": "code",
   "execution_count": 14,
   "id": "0741f9cf",
   "metadata": {
    "scrolled": true
   },
   "outputs": [
    {
     "name": "stdout",
     "output_type": "stream",
     "text": [
      "---------------------------------------------------------------\n",
      "Charles Bryan R. Fabian's Customer Bill Calculator\n",
      "---------------------------------------------------------------\n",
      "\n",
      "Input gross bill: 7693.42\n",
      "Input amount tendered: 10000\n",
      "Gross bill: 7693.42\n",
      "Service charge: 1154.01\n",
      "Sales tax: 769.34\n",
      "\n",
      "---------------------------------------------------------------\n",
      "\n",
      "Total charge: 9616.78\n",
      "Tendered: 10000.00\n",
      "Change: 383.22\n",
      "\n",
      "---------------------------------------------------------------\n"
     ]
    }
   ],
   "source": [
    "print(\"---------------------------------------------------------------\")\n",
    "print(\"Charles Bryan R. Fabian's Customer Bill Calculator\")\n",
    "print(\"---------------------------------------------------------------\\n\")\n",
    "## input\n",
    "grossbill = float(input(\"Input gross bill: \"))\n",
    "tendered = float(input(\"Input amount tendered: \"))\n",
    "## charges\n",
    "servicecharge = grossbill * .15\n",
    "salestax = grossbill * .1\n",
    "chargedbill = grossbill + servicecharge + salestax\n",
    "change = tendered - chargedbill\n",
    "## output\n",
    "print(\"Gross bill: {0:.2f}\\nService charge: {1:.2f}\\nSales tax: {2:.2f}\\n\".format(grossbill,servicecharge,salestax))\n",
    "print(\"---------------------------------------------------------------\\n\")\n",
    "print(\"Total charge: {0:.2f}\\nTendered: {1:.2f}\\nChange: {2:.2f}\\n\".format(chargedbill,tendered,change))\n",
    "print(\"---------------------------------------------------------------\")"
   ]
  }
 ],
 "metadata": {
  "kernelspec": {
   "display_name": "Python 3 (ipykernel)",
   "language": "python",
   "name": "python3"
  },
  "language_info": {
   "codemirror_mode": {
    "name": "ipython",
    "version": 3
   },
   "file_extension": ".py",
   "mimetype": "text/x-python",
   "name": "python",
   "nbconvert_exporter": "python",
   "pygments_lexer": "ipython3",
   "version": "3.10.1"
  }
 },
 "nbformat": 4,
 "nbformat_minor": 5
}
