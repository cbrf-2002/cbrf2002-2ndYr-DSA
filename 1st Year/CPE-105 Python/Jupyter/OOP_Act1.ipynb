{
 "cells": [
  {
   "cell_type": "code",
   "execution_count": 3,
   "id": "bb00a02f",
   "metadata": {},
   "outputs": [
    {
     "name": "stdout",
     "output_type": "stream",
     "text": [
      "Hey I'm Lloyd\n",
      "Hey I'm John\n"
     ]
    }
   ],
   "source": [
    "class Student:\n",
    "    name = \"\"\n",
    "    \n",
    "    def introduce(self):\n",
    "        print(\"Hey I'm\", self.name)\n",
    "        \n",
    "person1 = Student()\n",
    "person1.name = \"Lloyd\"\n",
    "person1.introduce()\n",
    "person2 = Student()\n",
    "person2.name = \"John\"\n",
    "person2.introduce()"
   ]
  },
  {
   "cell_type": "code",
   "execution_count": 4,
   "id": "7bce53e4",
   "metadata": {},
   "outputs": [
    {
     "name": "stdout",
     "output_type": "stream",
     "text": [
      "Hey I'm Lloyd\n",
      "Hey I'm John\n",
      "Hey I'm Charles\n",
      "My course is Computer Engineering\n"
     ]
    }
   ],
   "source": [
    "class Student:\n",
    "    name = \"\"\n",
    "    course = \"\"\n",
    "    \n",
    "    def introduce(self):\n",
    "        print(\"Hey I'm\", self.name)\n",
    "    def introduceAgain(course):\n",
    "        print(\"My course is\", course.course)\n",
    "        \n",
    "person1 = Student()\n",
    "person1.name = \"Lloyd\"\n",
    "person1.introduce()\n",
    "person2 = Student()\n",
    "person2.name = \"John\"\n",
    "person2.introduce()\n",
    "person3 = Student()\n",
    "person3.name = \"Charles\"\n",
    "person3.course = \"Computer Engineering\"\n",
    "person3.introduce()\n",
    "person3.introduceAgain()"
   ]
  },
  {
   "cell_type": "code",
   "execution_count": 5,
   "id": "11f83fb3",
   "metadata": {},
   "outputs": [
    {
     "name": "stdout",
     "output_type": "stream",
     "text": [
      "Game name: ML\n",
      "Game category: Multiple player\n"
     ]
    }
   ],
   "source": [
    "class Game:\n",
    "    name = \"\"\n",
    "    category = \"\"\n",
    "    def nameGame(namegame):\n",
    "        print(\"Game name:\", namegame.name)\n",
    "    def getCategory(categ):\n",
    "        print(\"Game category:\", categ.category)\n",
    "        \n",
    "game = Game()\n",
    "game.name = \"ML\"\n",
    "game.category = \"Multiple player\"\n",
    "game.nameGame()\n",
    "game.getCategory()"
   ]
  },
  {
   "cell_type": "code",
   "execution_count": 1,
   "id": "0babfdba",
   "metadata": {},
   "outputs": [
    {
     "name": "stdout",
     "output_type": "stream",
     "text": [
      "I'M A BOY\n"
     ]
    }
   ],
   "source": [
    "class Person:\n",
    "    sex = \"\"\n",
    "    def urSex(personsex):\n",
    "        print(\"I'M A\", personsex.sex)\n",
    "        \n",
    "statement = Person()\n",
    "statement.sex = \"BOY\"\n",
    "statement.urSex()"
   ]
  },
  {
   "cell_type": "code",
   "execution_count": null,
   "id": "462ff1d2",
   "metadata": {},
   "outputs": [],
   "source": []
  }
 ],
 "metadata": {
  "kernelspec": {
   "display_name": "Python 3 (ipykernel)",
   "language": "python",
   "name": "python3"
  },
  "language_info": {
   "codemirror_mode": {
    "name": "ipython",
    "version": 3
   },
   "file_extension": ".py",
   "mimetype": "text/x-python",
   "name": "python",
   "nbconvert_exporter": "python",
   "pygments_lexer": "ipython3",
   "version": "3.10.1"
  }
 },
 "nbformat": 4,
 "nbformat_minor": 5
}
